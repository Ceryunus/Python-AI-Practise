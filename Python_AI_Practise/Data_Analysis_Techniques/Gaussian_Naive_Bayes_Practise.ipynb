{
 "cells": [
  {
   "cell_type": "code",
   "execution_count": 1,
   "id": "ddeb9244-4396-482b-a050-ec3d2e61163b",
   "metadata": {
    "tags": []
   },
   "outputs": [
    {
     "name": "stdout",
     "output_type": "stream",
     "text": [
      "Model Doğruluğu: 100.00%\n"
     ]
    }
   ],
   "source": [
    "from sklearn.datasets import load_iris\n",
    "from sklearn.model_selection import train_test_split\n",
    "from sklearn.naive_bayes import GaussianNB\n",
    "from sklearn.metrics import accuracy_score\n",
    "\n",
    "#Iris veri seti\n",
    "iris = load_iris()\n",
    "X = iris.data  # Özellikler\n",
    "y = iris.target  # Sınıflar\n",
    "\n",
    "#(80% eğitim, 20% test)\n",
    "X_train, X_test, y_train, y_test = train_test_split(X, y, test_size=0.2, random_state=42)\n",
    "\n",
    "\n",
    "#Gaussian Naive Bayes \n",
    "# Özellikler \n",
    "# Bayes teoremi ve Gaussian dağılımı kullanarak olasılıksal sınıflandırma yapar\n",
    "# Her özelliği bağımsız olarak değerlendirir. (x)\n",
    "# Her sınıf için olasılık hesaplar ve en yüksek olasılığa sahip sınıfı tahmin eder.\n",
    "# Hızlı ve basittir büyük verilerde kullanılabilir.\n",
    "# Özellikler bağımsız değilse ve normal bir dağılım gösteriyorsa kullanılmamalıdır.\n",
    "\n",
    "#Gaussian Naive Bayes \n",
    "model = GaussianNB()\n",
    "\n",
    "#Modeli eğitim\n",
    "model.fit(X_train, y_train)\n",
    "\n",
    "#Test seti ile tahmin\n",
    "y_pred = model.predict(X_test)\n",
    "\n",
    "#Modelin doğruluğu\n",
    "accuracy = accuracy_score(y_test, y_pred)\n",
    "\n",
    "print(f\"Model Doğruluğu: {accuracy * 100:.2f}%\")\n"
   ]
  },
  {
   "cell_type": "code",
   "execution_count": null,
   "id": "b1c4c947-c346-4e92-b35b-247ceed25285",
   "metadata": {},
   "outputs": [],
   "source": []
  }
 ],
 "metadata": {
  "kernelspec": {
   "display_name": "Python 3 (ipykernel)",
   "language": "python",
   "name": "python3"
  },
  "language_info": {
   "codemirror_mode": {
    "name": "ipython",
    "version": 3
   },
   "file_extension": ".py",
   "mimetype": "text/x-python",
   "name": "python",
   "nbconvert_exporter": "python",
   "pygments_lexer": "ipython3",
   "version": "3.11.4"
  }
 },
 "nbformat": 4,
 "nbformat_minor": 5
}
