{
 "cells": [
  {
   "cell_type": "code",
   "execution_count": 1,
   "id": "fdf7271b-c777-4af4-a8e0-16a9737cb910",
   "metadata": {},
   "outputs": [],
   "source": [
    "#Numpy"
   ]
  },
  {
   "cell_type": "code",
   "execution_count": 2,
   "id": "e7469551-3464-4bfe-88a0-fab81361d04c",
   "metadata": {
    "tags": []
   },
   "outputs": [
    {
     "data": {
      "text/plain": [
       "numpy.ndarray"
      ]
     },
     "execution_count": 2,
     "metadata": {},
     "output_type": "execute_result"
    }
   ],
   "source": [
    "import numpy as np\n",
    "n = np.array([1,2,5,6,7])\n",
    "type(n)"
   ]
  },
  {
   "cell_type": "code",
   "execution_count": 3,
   "id": "6d04b415-e8f7-4e9e-b25a-01f6f4943aad",
   "metadata": {
    "tags": []
   },
   "outputs": [
    {
     "data": {
      "text/plain": [
       "array([1.23, 4.  , 6.  , 8.22])"
      ]
     },
     "execution_count": 3,
     "metadata": {},
     "output_type": "execute_result"
    }
   ],
   "source": [
    "np.array([1.23,4,6,8.22])"
   ]
  },
  {
   "cell_type": "code",
   "execution_count": 4,
   "id": "9486d606-a262-458d-84bf-7d522c54b6af",
   "metadata": {
    "tags": []
   },
   "outputs": [
    {
     "data": {
      "text/plain": [
       "array([1, 4, 6, 8])"
      ]
     },
     "execution_count": 4,
     "metadata": {},
     "output_type": "execute_result"
    }
   ],
   "source": [
    "np.array([1.23,4,6,8.22], dtype=\"int\")"
   ]
  },
  {
   "cell_type": "code",
   "execution_count": 5,
   "id": "7cc2e7be-8591-4928-ac37-eea7741a7c9d",
   "metadata": {
    "tags": []
   },
   "outputs": [
    {
     "data": {
      "text/plain": [
       "array([0, 0, 0, 0, 0, 0, 0, 0, 0, 0])"
      ]
     },
     "execution_count": 5,
     "metadata": {},
     "output_type": "execute_result"
    }
   ],
   "source": [
    "np.zeros(10,dtype=\"int\")"
   ]
  },
  {
   "cell_type": "code",
   "execution_count": 6,
   "id": "2000345f-1648-447f-ad25-9bccdbf0754d",
   "metadata": {
    "tags": []
   },
   "outputs": [
    {
     "data": {
      "text/plain": [
       "array([1., 1., 1., 1., 1., 1., 1., 1., 1., 1.])"
      ]
     },
     "execution_count": 6,
     "metadata": {},
     "output_type": "execute_result"
    }
   ],
   "source": [
    "np.ones(10,dtype=\"float\")"
   ]
  },
  {
   "cell_type": "code",
   "execution_count": 7,
   "id": "3f6978da-d169-4a1b-b038-910df8ad0f47",
   "metadata": {
    "tags": []
   },
   "outputs": [
    {
     "data": {
      "text/plain": [
       "array([[1, 1, 1],\n",
       "       [1, 1, 1],\n",
       "       [1, 1, 1]])"
      ]
     },
     "execution_count": 7,
     "metadata": {},
     "output_type": "execute_result"
    }
   ],
   "source": [
    "np.full((3,3),1)"
   ]
  },
  {
   "cell_type": "code",
   "execution_count": 8,
   "id": "a9efdb83-f442-41f6-b35a-14722c47f2ff",
   "metadata": {
    "tags": []
   },
   "outputs": [
    {
     "data": {
      "text/plain": [
       "array([ 0,  3,  6,  9, 12, 15])"
      ]
     },
     "execution_count": 8,
     "metadata": {},
     "output_type": "execute_result"
    }
   ],
   "source": [
    "np.arange(0,16,3)"
   ]
  },
  {
   "cell_type": "code",
   "execution_count": 9,
   "id": "251ad678-7d6c-494f-9c55-a22353cab490",
   "metadata": {},
   "outputs": [],
   "source": [
    "# ort 10 , standart sapma 4, 3x3"
   ]
  },
  {
   "cell_type": "code",
   "execution_count": 10,
   "id": "81f7bc73-6e69-4c19-8b83-94ca8035d6ad",
   "metadata": {
    "tags": []
   },
   "outputs": [
    {
     "data": {
      "text/plain": [
       "array([[11.37001102, 19.76286812,  9.93731304],\n",
       "       [10.63051996, 15.04422507,  7.9874128 ],\n",
       "       [ 6.05753697,  7.61318389,  1.24886976]])"
      ]
     },
     "execution_count": 10,
     "metadata": {},
     "output_type": "execute_result"
    }
   ],
   "source": [
    "np.random.normal(10,4,(3,3))"
   ]
  },
  {
   "cell_type": "code",
   "execution_count": null,
   "id": "5664a1b4-2f45-4ce2-99c4-e9597e88c7db",
   "metadata": {},
   "outputs": [],
   "source": []
  },
  {
   "cell_type": "code",
   "execution_count": 11,
   "id": "4961d12a-b5d2-416f-8c1e-9a248567b304",
   "metadata": {
    "tags": []
   },
   "outputs": [
    {
     "data": {
      "text/plain": [
       "array([ 0,  3,  6,  9, 12, 15])"
      ]
     },
     "execution_count": 11,
     "metadata": {},
     "output_type": "execute_result"
    }
   ],
   "source": [
    "a1=np.arange(0,16,3)\n",
    "a1"
   ]
  },
  {
   "cell_type": "code",
   "execution_count": 12,
   "id": "355d0d34-b877-4fad-a1f2-7e86c9c6241e",
   "metadata": {
    "tags": []
   },
   "outputs": [
    {
     "data": {
      "text/plain": [
       "array([[1, 1, 1],\n",
       "       [1, 1, 1],\n",
       "       [1, 1, 1]])"
      ]
     },
     "execution_count": 12,
     "metadata": {},
     "output_type": "execute_result"
    }
   ],
   "source": [
    "a2=np.full((3,3),1)\n",
    "a2"
   ]
  },
  {
   "cell_type": "code",
   "execution_count": 13,
   "id": "992cf030-33ef-47b8-8125-cd67b49a75c8",
   "metadata": {},
   "outputs": [],
   "source": [
    "#boyut"
   ]
  },
  {
   "cell_type": "code",
   "execution_count": 14,
   "id": "3d887770-4316-450e-879f-8c4ada73faab",
   "metadata": {
    "tags": []
   },
   "outputs": [
    {
     "data": {
      "text/plain": [
       "(1, 2)"
      ]
     },
     "execution_count": 14,
     "metadata": {},
     "output_type": "execute_result"
    }
   ],
   "source": [
    "a1.ndim , a2.ndim"
   ]
  },
  {
   "cell_type": "code",
   "execution_count": 15,
   "id": "15c42be7-57fa-463e-bf08-2faa71f3a42f",
   "metadata": {},
   "outputs": [],
   "source": [
    "#size"
   ]
  },
  {
   "cell_type": "code",
   "execution_count": 16,
   "id": "80ecd603-dd3a-433c-8b02-baa7074fc31f",
   "metadata": {
    "tags": []
   },
   "outputs": [
    {
     "data": {
      "text/plain": [
       "(6, 9)"
      ]
     },
     "execution_count": 16,
     "metadata": {},
     "output_type": "execute_result"
    }
   ],
   "source": [
    "a1.size , a2.size"
   ]
  },
  {
   "cell_type": "code",
   "execution_count": 17,
   "id": "c9f8c26d-3b90-41a1-815d-5bb433f573ac",
   "metadata": {},
   "outputs": [],
   "source": [
    "#type"
   ]
  },
  {
   "cell_type": "code",
   "execution_count": 18,
   "id": "be873362-5e38-4a45-a6c7-3e84ae059a68",
   "metadata": {
    "tags": []
   },
   "outputs": [
    {
     "data": {
      "text/plain": [
       "(dtype('int32'), dtype('int32'))"
      ]
     },
     "execution_count": 18,
     "metadata": {},
     "output_type": "execute_result"
    }
   ],
   "source": [
    "a1.dtype , a2.dtype"
   ]
  },
  {
   "cell_type": "code",
   "execution_count": 19,
   "id": "ba107e44-00d8-4cdd-9725-35a9c0bebaef",
   "metadata": {},
   "outputs": [],
   "source": [
    "#reshape"
   ]
  },
  {
   "cell_type": "code",
   "execution_count": 20,
   "id": "6ec0512c-bfba-4b94-a8d5-791734da238c",
   "metadata": {
    "tags": []
   },
   "outputs": [
    {
     "data": {
      "text/plain": [
       "array([[ 1,  2,  3,  4],\n",
       "       [ 5,  6,  7,  8],\n",
       "       [ 9, 10, 11, 12],\n",
       "       [13, 14, 15, 16]])"
      ]
     },
     "execution_count": 20,
     "metadata": {},
     "output_type": "execute_result"
    }
   ],
   "source": [
    "np.arange(1,17).reshape((4,4))"
   ]
  },
  {
   "cell_type": "code",
   "execution_count": 21,
   "id": "bf062891-9edb-4160-944c-57c6dfaef4bc",
   "metadata": {},
   "outputs": [],
   "source": [
    "#concte"
   ]
  },
  {
   "cell_type": "code",
   "execution_count": 22,
   "id": "f787a688-03e1-4d34-bdc7-f88cfb353904",
   "metadata": {
    "tags": []
   },
   "outputs": [
    {
     "data": {
      "text/plain": [
       "array([ 0,  3,  6,  9, 12, 15,  0,  3,  6,  9, 12, 15])"
      ]
     },
     "execution_count": 22,
     "metadata": {},
     "output_type": "execute_result"
    }
   ],
   "source": [
    "np.concatenate([a1,a1])"
   ]
  },
  {
   "cell_type": "code",
   "execution_count": 23,
   "id": "7e32c516-8eb5-4265-aced-84222fcb713d",
   "metadata": {
    "tags": []
   },
   "outputs": [
    {
     "data": {
      "text/plain": [
       "[array([0, 3, 6]), array([ 9, 12, 15])]"
      ]
     },
     "execution_count": 23,
     "metadata": {},
     "output_type": "execute_result"
    }
   ],
   "source": [
    "np.split(a1,2)"
   ]
  },
  {
   "cell_type": "code",
   "execution_count": 24,
   "id": "b889581d-8952-4114-b30d-624c5850ee84",
   "metadata": {},
   "outputs": [],
   "source": [
    "# array , :1 , 1:3 , 3:"
   ]
  },
  {
   "cell_type": "code",
   "execution_count": 25,
   "id": "9f4b658c-eefa-4814-95a6-6eeeeb8207e6",
   "metadata": {
    "tags": []
   },
   "outputs": [
    {
     "data": {
      "text/plain": [
       "[array([0]), array([3, 6]), array([ 9, 12, 15])]"
      ]
     },
     "execution_count": 25,
     "metadata": {},
     "output_type": "execute_result"
    }
   ],
   "source": [
    "np.split(a1,[1,3])"
   ]
  },
  {
   "cell_type": "code",
   "execution_count": 26,
   "id": "f1c6a719-f9bb-4a5e-8208-5019865839af",
   "metadata": {
    "tags": []
   },
   "outputs": [
    {
     "data": {
      "text/plain": [
       "array([3, 6])"
      ]
     },
     "execution_count": 26,
     "metadata": {},
     "output_type": "execute_result"
    }
   ],
   "source": [
    "np.split(a1,[1,3])[1]"
   ]
  },
  {
   "cell_type": "code",
   "execution_count": 27,
   "id": "db9d2f9b-b051-4efd-9eb8-3f1be39d1e74",
   "metadata": {
    "tags": []
   },
   "outputs": [
    {
     "data": {
      "text/plain": [
       "array([ 0,  3,  6,  9, 12, 15], dtype=int16)"
      ]
     },
     "execution_count": 27,
     "metadata": {},
     "output_type": "execute_result"
    }
   ],
   "source": [
    "np.short(a1)"
   ]
  },
  {
   "cell_type": "code",
   "execution_count": 28,
   "id": "3d034dbf-9c59-4a82-af84-e56159b2f153",
   "metadata": {
    "tags": []
   },
   "outputs": [
    {
     "data": {
      "text/plain": [
       "array([[1, 1, 1],\n",
       "       [1, 1, 1],\n",
       "       [1, 1, 1]])"
      ]
     },
     "execution_count": 28,
     "metadata": {},
     "output_type": "execute_result"
    }
   ],
   "source": [
    "a2"
   ]
  },
  {
   "cell_type": "code",
   "execution_count": 29,
   "id": "557b3483-0858-464a-b63b-2e8e0b1916c5",
   "metadata": {},
   "outputs": [],
   "source": [
    "# x>=3,x<=12,size=(dimensions)"
   ]
  },
  {
   "cell_type": "code",
   "execution_count": 30,
   "id": "482255f9-f58e-4135-80bd-83a7e9b7e754",
   "metadata": {
    "tags": []
   },
   "outputs": [],
   "source": [
    "a2 = np.random.randint(3,12,size=(4,4))"
   ]
  },
  {
   "cell_type": "code",
   "execution_count": 31,
   "id": "e2451279-bd4e-4ec4-ad1b-74553ac8edcb",
   "metadata": {
    "tags": []
   },
   "outputs": [
    {
     "data": {
      "text/plain": [
       "array([[ 4,  6,  5,  9],\n",
       "       [ 3, 10,  6,  4],\n",
       "       [ 9,  8,  6, 11],\n",
       "       [ 8,  4, 10,  4]])"
      ]
     },
     "execution_count": 31,
     "metadata": {},
     "output_type": "execute_result"
    }
   ],
   "source": [
    "a2"
   ]
  },
  {
   "cell_type": "code",
   "execution_count": 32,
   "id": "a08e2d2b-5048-4309-b569-d344cd0eddb3",
   "metadata": {
    "tags": []
   },
   "outputs": [
    {
     "data": {
      "text/plain": [
       "10"
      ]
     },
     "execution_count": 32,
     "metadata": {},
     "output_type": "execute_result"
    }
   ],
   "source": [
    "a2[3,2]"
   ]
  },
  {
   "cell_type": "code",
   "execution_count": 33,
   "id": "e9d1dbcd-22ee-4e97-be6c-90aedb20826b",
   "metadata": {
    "tags": []
   },
   "outputs": [
    {
     "data": {
      "text/plain": [
       "array([[ 4,  6,  5,  9],\n",
       "       [ 3, 10,  6,  4],\n",
       "       [ 9,  8,  6, 11]])"
      ]
     },
     "execution_count": 33,
     "metadata": {},
     "output_type": "execute_result"
    }
   ],
   "source": [
    "a2[:3]"
   ]
  },
  {
   "cell_type": "code",
   "execution_count": 34,
   "id": "ddea0a2c-7a7b-4af7-9d51-44cf47fc0d29",
   "metadata": {},
   "outputs": [],
   "source": [
    "#array copy"
   ]
  },
  {
   "cell_type": "code",
   "execution_count": 35,
   "id": "b8455928-2024-449d-8ab6-094bbf09dca4",
   "metadata": {
    "tags": []
   },
   "outputs": [
    {
     "data": {
      "text/plain": [
       "array([[ 4,  6,  5,  9],\n",
       "       [ 3, 10,  6,  4]])"
      ]
     },
     "execution_count": 35,
     "metadata": {},
     "output_type": "execute_result"
    }
   ],
   "source": [
    "b2 = a2[:2]\n",
    "b2"
   ]
  },
  {
   "cell_type": "code",
   "execution_count": 36,
   "id": "b912a620-9239-4e38-8c81-33e1ff9adbdb",
   "metadata": {
    "tags": []
   },
   "outputs": [
    {
     "data": {
      "text/plain": [
       "4"
      ]
     },
     "execution_count": 36,
     "metadata": {},
     "output_type": "execute_result"
    }
   ],
   "source": [
    "b2[0,0]"
   ]
  },
  {
   "cell_type": "code",
   "execution_count": 37,
   "id": "e85fb25c-61c3-48bc-a4bc-88822a667ba7",
   "metadata": {
    "tags": []
   },
   "outputs": [
    {
     "data": {
      "text/plain": [
       "array([[101,   6,   5,   9],\n",
       "       [  3,  10,   6,   4]])"
      ]
     },
     "execution_count": 37,
     "metadata": {},
     "output_type": "execute_result"
    }
   ],
   "source": [
    "b2[0,0]= 101\n",
    "b2"
   ]
  },
  {
   "cell_type": "code",
   "execution_count": 38,
   "id": "5b59f881-d34f-484b-bccf-5ec537bd6bbb",
   "metadata": {
    "tags": []
   },
   "outputs": [
    {
     "data": {
      "text/plain": [
       "array([[101,   6,   5,   9],\n",
       "       [  3,  10,   6,   4],\n",
       "       [  9,   8,   6,  11],\n",
       "       [  8,   4,  10,   4]])"
      ]
     },
     "execution_count": 38,
     "metadata": {},
     "output_type": "execute_result"
    }
   ],
   "source": [
    "a2"
   ]
  },
  {
   "cell_type": "code",
   "execution_count": 39,
   "id": "51cdce80-cca6-44dc-b0ae-42f8bfdf784c",
   "metadata": {},
   "outputs": [
    {
     "data": {
      "text/plain": [
       "array([[101,   6,   5,   9],\n",
       "       [  3,  10,   6,   4]])"
      ]
     },
     "execution_count": 39,
     "metadata": {},
     "output_type": "execute_result"
    }
   ],
   "source": [
    "c2 = a2[:2].copy()\n",
    "c2"
   ]
  },
  {
   "cell_type": "code",
   "execution_count": 40,
   "id": "269c7191-480a-420e-a38b-0aa4faf1cfec",
   "metadata": {
    "tags": []
   },
   "outputs": [
    {
     "data": {
      "text/plain": [
       "array([[303,   6,   5,   9],\n",
       "       [  3,  10,   6,   4]])"
      ]
     },
     "execution_count": 40,
     "metadata": {},
     "output_type": "execute_result"
    }
   ],
   "source": [
    "c2[0,0]=303\n",
    "c2"
   ]
  },
  {
   "cell_type": "code",
   "execution_count": 41,
   "id": "3e46ef4f-7fe0-497e-9378-b88549c87733",
   "metadata": {
    "tags": []
   },
   "outputs": [
    {
     "data": {
      "text/plain": [
       "array([[101,   6,   5,   9],\n",
       "       [  3,  10,   6,   4],\n",
       "       [  9,   8,   6,  11],\n",
       "       [  8,   4,  10,   4]])"
      ]
     },
     "execution_count": 41,
     "metadata": {},
     "output_type": "execute_result"
    }
   ],
   "source": [
    "a2"
   ]
  },
  {
   "cell_type": "code",
   "execution_count": 42,
   "id": "f911d96b-e38a-4dd7-af1a-51a0a7617275",
   "metadata": {},
   "outputs": [],
   "source": [
    "#Fancy Index"
   ]
  },
  {
   "cell_type": "code",
   "execution_count": 43,
   "id": "7c85a4e9-af53-4d3f-8fcf-4435c4318cdd",
   "metadata": {
    "tags": []
   },
   "outputs": [
    {
     "data": {
      "text/plain": [
       "array([ 0,  3,  6,  9, 12, 15])"
      ]
     },
     "execution_count": 43,
     "metadata": {},
     "output_type": "execute_result"
    }
   ],
   "source": [
    "a1"
   ]
  },
  {
   "cell_type": "code",
   "execution_count": 44,
   "id": "bc730a38-f97a-4fe5-97b1-f8ab6fac5010",
   "metadata": {
    "tags": []
   },
   "outputs": [
    {
     "data": {
      "text/plain": [
       "array([ 6,  9, 12, 15])"
      ]
     },
     "execution_count": 44,
     "metadata": {},
     "output_type": "execute_result"
    }
   ],
   "source": [
    "a1[a1>5]"
   ]
  },
  {
   "cell_type": "code",
   "execution_count": 45,
   "id": "b11978cb-c7a2-4867-a24d-3e1643181bb7",
   "metadata": {
    "tags": []
   },
   "outputs": [
    {
     "data": {
      "text/plain": [
       "array([0, 3, 6])"
      ]
     },
     "execution_count": 45,
     "metadata": {},
     "output_type": "execute_result"
    }
   ],
   "source": [
    "ind=[0,1,2]\n",
    "a1[ind]"
   ]
  },
  {
   "cell_type": "code",
   "execution_count": 46,
   "id": "9c96335d-e1ad-4c2f-af07-6f49846481fb",
   "metadata": {
    "tags": []
   },
   "outputs": [],
   "source": [
    "l1=[a1[0],a1[2],a1[1],a1[3]]"
   ]
  },
  {
   "cell_type": "code",
   "execution_count": 47,
   "id": "3315fb90-d3ec-4757-8c92-d7c6b140313d",
   "metadata": {
    "tags": []
   },
   "outputs": [
    {
     "data": {
      "text/plain": [
       "[0, 6, 3, 9]"
      ]
     },
     "execution_count": 47,
     "metadata": {},
     "output_type": "execute_result"
    }
   ],
   "source": [
    "l1\n"
   ]
  },
  {
   "cell_type": "code",
   "execution_count": 48,
   "id": "38dc2c85-a7ec-4ac4-85da-8a30a4458cf7",
   "metadata": {
    "tags": []
   },
   "outputs": [
    {
     "data": {
      "text/plain": [
       "list"
      ]
     },
     "execution_count": 48,
     "metadata": {},
     "output_type": "execute_result"
    }
   ],
   "source": [
    "type(l1)"
   ]
  },
  {
   "cell_type": "code",
   "execution_count": 49,
   "id": "c261afca-8459-4af2-b200-71e42590d7fa",
   "metadata": {},
   "outputs": [],
   "source": [
    "#Combined Indexing"
   ]
  },
  {
   "cell_type": "code",
   "execution_count": 50,
   "id": "f1d45d96-a64d-45d7-9548-02191b4fa974",
   "metadata": {
    "tags": []
   },
   "outputs": [
    {
     "data": {
      "text/plain": [
       "array([[101,   6,   5,   9],\n",
       "       [  3,  10,   6,   4],\n",
       "       [  9,   8,   6,  11],\n",
       "       [  8,   4,  10,   4]])"
      ]
     },
     "execution_count": 50,
     "metadata": {},
     "output_type": "execute_result"
    }
   ],
   "source": [
    "a2"
   ]
  },
  {
   "cell_type": "code",
   "execution_count": 51,
   "id": "9a4f3a18-388f-4f56-8c60-a750274fadc5",
   "metadata": {},
   "outputs": [],
   "source": [
    "# a2 row 1 col 1 ,0 ,3"
   ]
  },
  {
   "cell_type": "code",
   "execution_count": 52,
   "id": "004324e0-fd1d-4d5b-aff9-93abd26d1228",
   "metadata": {
    "tags": []
   },
   "outputs": [
    {
     "data": {
      "text/plain": [
       "array([10,  3,  4])"
      ]
     },
     "execution_count": 52,
     "metadata": {},
     "output_type": "execute_result"
    }
   ],
   "source": [
    "a2[1,[1,0,3]]"
   ]
  }
 ],
 "metadata": {
  "kernelspec": {
   "display_name": "Python 3 (ipykernel)",
   "language": "python",
   "name": "python3"
  },
  "language_info": {
   "codemirror_mode": {
    "name": "ipython",
    "version": 3
   },
   "file_extension": ".py",
   "mimetype": "text/x-python",
   "name": "python",
   "nbconvert_exporter": "python",
   "pygments_lexer": "ipython3",
   "version": "3.11.4"
  }
 },
 "nbformat": 4,
 "nbformat_minor": 5
}
